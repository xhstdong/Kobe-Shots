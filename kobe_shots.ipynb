{
 "cells": [
  {
   "cell_type": "markdown",
   "metadata": {},
   "source": [
    "# Exploratory Analysis on Kobe's Shots Data\n",
    "\n",
    "In honor of a great player who just retired after a career that spanned two decades, data on all the shots he ever took in the NBA is provided on Kaggle. Predicting anything in sports is pretty difficult, so this exercise is used mostly for practing EDA with pandas"
   ]
  },
  {
   "cell_type": "code",
   "execution_count": 1,
   "metadata": {
    "collapsed": true
   },
   "outputs": [],
   "source": [
    "#### in this implementation, a random forest predictor is used\n",
    "\n",
    "import pandas as pd\n",
    "import numpy as np\n",
    "import matplotlib.pyplot as plt"
   ]
  },
  {
   "cell_type": "code",
   "execution_count": 2,
   "metadata": {
    "collapsed": false
   },
   "outputs": [
    {
     "data": {
      "text/html": [
       "<div>\n",
       "<table border=\"1\" class=\"dataframe\">\n",
       "  <thead>\n",
       "    <tr style=\"text-align: right;\">\n",
       "      <th></th>\n",
       "      <th>action_type</th>\n",
       "      <th>combined_shot_type</th>\n",
       "      <th>game_event_id</th>\n",
       "      <th>game_id</th>\n",
       "      <th>lat</th>\n",
       "      <th>loc_x</th>\n",
       "      <th>loc_y</th>\n",
       "      <th>lon</th>\n",
       "      <th>minutes_remaining</th>\n",
       "      <th>period</th>\n",
       "      <th>...</th>\n",
       "      <th>shot_type</th>\n",
       "      <th>shot_zone_area</th>\n",
       "      <th>shot_zone_basic</th>\n",
       "      <th>shot_zone_range</th>\n",
       "      <th>team_id</th>\n",
       "      <th>team_name</th>\n",
       "      <th>game_date</th>\n",
       "      <th>matchup</th>\n",
       "      <th>opponent</th>\n",
       "      <th>shot_id</th>\n",
       "    </tr>\n",
       "  </thead>\n",
       "  <tbody>\n",
       "    <tr>\n",
       "      <th>0</th>\n",
       "      <td>Jump Shot</td>\n",
       "      <td>Jump Shot</td>\n",
       "      <td>10</td>\n",
       "      <td>20000012</td>\n",
       "      <td>33.9723</td>\n",
       "      <td>167</td>\n",
       "      <td>72</td>\n",
       "      <td>-118.1028</td>\n",
       "      <td>10</td>\n",
       "      <td>1</td>\n",
       "      <td>...</td>\n",
       "      <td>2PT Field Goal</td>\n",
       "      <td>Right Side(R)</td>\n",
       "      <td>Mid-Range</td>\n",
       "      <td>16-24 ft.</td>\n",
       "      <td>1610612747</td>\n",
       "      <td>Los Angeles Lakers</td>\n",
       "      <td>2000-10-31</td>\n",
       "      <td>LAL @ POR</td>\n",
       "      <td>POR</td>\n",
       "      <td>1</td>\n",
       "    </tr>\n",
       "    <tr>\n",
       "      <th>1</th>\n",
       "      <td>Jump Shot</td>\n",
       "      <td>Jump Shot</td>\n",
       "      <td>12</td>\n",
       "      <td>20000012</td>\n",
       "      <td>34.0443</td>\n",
       "      <td>-157</td>\n",
       "      <td>0</td>\n",
       "      <td>-118.4268</td>\n",
       "      <td>10</td>\n",
       "      <td>1</td>\n",
       "      <td>...</td>\n",
       "      <td>2PT Field Goal</td>\n",
       "      <td>Left Side(L)</td>\n",
       "      <td>Mid-Range</td>\n",
       "      <td>8-16 ft.</td>\n",
       "      <td>1610612747</td>\n",
       "      <td>Los Angeles Lakers</td>\n",
       "      <td>2000-10-31</td>\n",
       "      <td>LAL @ POR</td>\n",
       "      <td>POR</td>\n",
       "      <td>2</td>\n",
       "    </tr>\n",
       "    <tr>\n",
       "      <th>2</th>\n",
       "      <td>Jump Shot</td>\n",
       "      <td>Jump Shot</td>\n",
       "      <td>35</td>\n",
       "      <td>20000012</td>\n",
       "      <td>33.9093</td>\n",
       "      <td>-101</td>\n",
       "      <td>135</td>\n",
       "      <td>-118.3708</td>\n",
       "      <td>7</td>\n",
       "      <td>1</td>\n",
       "      <td>...</td>\n",
       "      <td>2PT Field Goal</td>\n",
       "      <td>Left Side Center(LC)</td>\n",
       "      <td>Mid-Range</td>\n",
       "      <td>16-24 ft.</td>\n",
       "      <td>1610612747</td>\n",
       "      <td>Los Angeles Lakers</td>\n",
       "      <td>2000-10-31</td>\n",
       "      <td>LAL @ POR</td>\n",
       "      <td>POR</td>\n",
       "      <td>3</td>\n",
       "    </tr>\n",
       "    <tr>\n",
       "      <th>3</th>\n",
       "      <td>Jump Shot</td>\n",
       "      <td>Jump Shot</td>\n",
       "      <td>43</td>\n",
       "      <td>20000012</td>\n",
       "      <td>33.8693</td>\n",
       "      <td>138</td>\n",
       "      <td>175</td>\n",
       "      <td>-118.1318</td>\n",
       "      <td>6</td>\n",
       "      <td>1</td>\n",
       "      <td>...</td>\n",
       "      <td>2PT Field Goal</td>\n",
       "      <td>Right Side Center(RC)</td>\n",
       "      <td>Mid-Range</td>\n",
       "      <td>16-24 ft.</td>\n",
       "      <td>1610612747</td>\n",
       "      <td>Los Angeles Lakers</td>\n",
       "      <td>2000-10-31</td>\n",
       "      <td>LAL @ POR</td>\n",
       "      <td>POR</td>\n",
       "      <td>4</td>\n",
       "    </tr>\n",
       "    <tr>\n",
       "      <th>4</th>\n",
       "      <td>Driving Dunk Shot</td>\n",
       "      <td>Dunk</td>\n",
       "      <td>155</td>\n",
       "      <td>20000012</td>\n",
       "      <td>34.0443</td>\n",
       "      <td>0</td>\n",
       "      <td>0</td>\n",
       "      <td>-118.2698</td>\n",
       "      <td>6</td>\n",
       "      <td>2</td>\n",
       "      <td>...</td>\n",
       "      <td>2PT Field Goal</td>\n",
       "      <td>Center(C)</td>\n",
       "      <td>Restricted Area</td>\n",
       "      <td>Less Than 8 ft.</td>\n",
       "      <td>1610612747</td>\n",
       "      <td>Los Angeles Lakers</td>\n",
       "      <td>2000-10-31</td>\n",
       "      <td>LAL @ POR</td>\n",
       "      <td>POR</td>\n",
       "      <td>5</td>\n",
       "    </tr>\n",
       "  </tbody>\n",
       "</table>\n",
       "<p>5 rows × 25 columns</p>\n",
       "</div>"
      ],
      "text/plain": [
       "         action_type combined_shot_type  game_event_id   game_id      lat  \\\n",
       "0          Jump Shot          Jump Shot             10  20000012  33.9723   \n",
       "1          Jump Shot          Jump Shot             12  20000012  34.0443   \n",
       "2          Jump Shot          Jump Shot             35  20000012  33.9093   \n",
       "3          Jump Shot          Jump Shot             43  20000012  33.8693   \n",
       "4  Driving Dunk Shot               Dunk            155  20000012  34.0443   \n",
       "\n",
       "   loc_x  loc_y       lon  minutes_remaining  period   ...          shot_type  \\\n",
       "0    167     72 -118.1028                 10       1   ...     2PT Field Goal   \n",
       "1   -157      0 -118.4268                 10       1   ...     2PT Field Goal   \n",
       "2   -101    135 -118.3708                  7       1   ...     2PT Field Goal   \n",
       "3    138    175 -118.1318                  6       1   ...     2PT Field Goal   \n",
       "4      0      0 -118.2698                  6       2   ...     2PT Field Goal   \n",
       "\n",
       "          shot_zone_area  shot_zone_basic  shot_zone_range     team_id  \\\n",
       "0          Right Side(R)        Mid-Range        16-24 ft.  1610612747   \n",
       "1           Left Side(L)        Mid-Range         8-16 ft.  1610612747   \n",
       "2   Left Side Center(LC)        Mid-Range        16-24 ft.  1610612747   \n",
       "3  Right Side Center(RC)        Mid-Range        16-24 ft.  1610612747   \n",
       "4              Center(C)  Restricted Area  Less Than 8 ft.  1610612747   \n",
       "\n",
       "            team_name   game_date    matchup opponent  shot_id  \n",
       "0  Los Angeles Lakers  2000-10-31  LAL @ POR      POR        1  \n",
       "1  Los Angeles Lakers  2000-10-31  LAL @ POR      POR        2  \n",
       "2  Los Angeles Lakers  2000-10-31  LAL @ POR      POR        3  \n",
       "3  Los Angeles Lakers  2000-10-31  LAL @ POR      POR        4  \n",
       "4  Los Angeles Lakers  2000-10-31  LAL @ POR      POR        5  \n",
       "\n",
       "[5 rows x 25 columns]"
      ]
     },
     "execution_count": 2,
     "metadata": {},
     "output_type": "execute_result"
    }
   ],
   "source": [
    "#if data file is not in the location as the notebook, the following code is necessary:\n",
    "\n",
    "import os\n",
    "filepath=\"E:/numerical/kobe/data.csv\"  #or wherever it is stored\n",
    "pwd=os.getcwd()\n",
    "pwd\n",
    "os.chdir(os.path.dirname(filepath))\n",
    "df = pd.read_csv(os.path.basename(filepath),header=0) #read data\n",
    "os.chdir(pwd) #change back to current folder\n",
    "df.head(5)"
   ]
  },
  {
   "cell_type": "code",
   "execution_count": 3,
   "metadata": {
    "collapsed": false
   },
   "outputs": [],
   "source": [
    "#df=pd.read_csv('train.csv')\n"
   ]
  },
  {
   "cell_type": "code",
   "execution_count": 4,
   "metadata": {
    "collapsed": false
   },
   "outputs": [
    {
     "data": {
      "text/plain": [
       "Index(['action_type', 'combined_shot_type', 'game_event_id', 'game_id', 'lat',\n",
       "       'loc_x', 'loc_y', 'lon', 'minutes_remaining', 'period', 'playoffs',\n",
       "       'season', 'seconds_remaining', 'shot_distance', 'shot_made_flag',\n",
       "       'shot_type', 'shot_zone_area', 'shot_zone_basic', 'shot_zone_range',\n",
       "       'team_id', 'team_name', 'game_date', 'matchup', 'opponent', 'shot_id'],\n",
       "      dtype='object')"
      ]
     },
     "execution_count": 4,
     "metadata": {},
     "output_type": "execute_result"
    }
   ],
   "source": [
    "df.columns\n"
   ]
  },
  {
   "cell_type": "markdown",
   "metadata": {},
   "source": [
    "Lots of interesting info here. Some of it seem a bit excessive, such as longitudes and latitudes. I will remove these columns"
   ]
  },
  {
   "cell_type": "markdown",
   "metadata": {},
   "source": [
    "Drop Useless columns"
   ]
  },
  {
   "cell_type": "code",
   "execution_count": 5,
   "metadata": {
    "collapsed": false
   },
   "outputs": [],
   "source": [
    "df.drop(['lat','lon'], axis=1,inplace= True)"
   ]
  },
  {
   "cell_type": "markdown",
   "metadata": {},
   "source": [
    "I'm really interested in knowing the number of shots and quality of shots in his game"
   ]
  },
  {
   "cell_type": "code",
   "execution_count": 6,
   "metadata": {
    "collapsed": false
   },
   "outputs": [
    {
     "name": "stdout",
     "output_type": "stream",
     "text": [
      "1 0.2721325774095072\n",
      "2 0.22058438726559093\n",
      "3 0.2769297863061492\n",
      "4 0.21805494984736154\n"
     ]
    }
   ],
   "source": [
    "# percentage of all basketballs broken down by period\n",
    "for i in range(1,5):\n",
    "    print( i, len(df[(df['shot_made_flag']== 1 ) & (df['period']== i)])/len(df[df['shot_made_flag']==1]))"
   ]
  },
  {
   "cell_type": "markdown",
   "metadata": {},
   "source": [
    "In terms of absolute number of shots made, 1st and 3rd quarters are more productive. Perhaps he had more energy.\n",
    "\n",
    "Kobe wasn both shooting more and he was more accurate too:"
   ]
  },
  {
   "cell_type": "code",
   "execution_count": 7,
   "metadata": {
    "collapsed": false
   },
   "outputs": [
    {
     "name": "stdout",
     "output_type": "stream",
     "text": [
      "1 0.38767395626242546\n",
      "2 0.37645132479904736\n",
      "3 0.3827145612343298\n",
      "4 0.3443526170798898\n"
     ]
    }
   ],
   "source": [
    "#shot accuracy per period\n",
    "for i in range(1,5):\n",
    "    print( i, len(df[(df['shot_made_flag']== 1 ) & (df['period']== i)])/len(df[df['period']==i]) )"
   ]
  },
  {
   "cell_type": "code",
   "execution_count": 8,
   "metadata": {
    "collapsed": false
   },
   "outputs": [
    {
     "name": "stdout",
     "output_type": "stream",
     "text": [
      "1 0.2621754568850376\n",
      "2 0.21884874743460273\n",
      "3 0.2702544222562465\n",
      "4 0.23650519594748673\n"
     ]
    }
   ],
   "source": [
    "#tendency to take shots by period\n",
    "for i in range(1,5):\n",
    "    print( i,len(df[df['period']== i])/len(df['period']) )"
   ]
  },
  {
   "cell_type": "code",
   "execution_count": 9,
   "metadata": {
    "collapsed": false
   },
   "outputs": [],
   "source": [
    "scored=df[df['shot_made_flag']==1]\n",
    "missed=df[df['shot_made_flag']==0]"
   ]
  },
  {
   "cell_type": "markdown",
   "metadata": {},
   "source": [
    "Let's see where he is shooting, and where he is scoring"
   ]
  },
  {
   "cell_type": "code",
   "execution_count": 10,
   "metadata": {
    "collapsed": false
   },
   "outputs": [
    {
     "data": {
      "image/png": "[encoded data removed]",
      "text/plain": [
       "<matplotlib.figure.Figure at 0x110758c9438>"
      ]
     },
     "metadata": {},
     "output_type": "display_data"
    },
    {
     "data": {
      "image/png": "[encoded data removed]",
      "text/plain": [
       "<matplotlib.figure.Figure at 0x110764fba20>"
      ]
     },
     "metadata": {},
     "output_type": "display_data"
    }
   ],
   "source": [
    "%matplotlib inline\n",
    "plt.scatter(scored['loc_x'],scored['loc_y'])\n",
    "plt.show()\n",
    "plt.scatter(missed['loc_x'],missed['loc_y'],c='red')\n",
    "plt.show()"
   ]
  },
  {
   "cell_type": "markdown",
   "metadata": {},
   "source": [
    "Not very helpful: too many points. Let's smooth it out to see a smoother distribution of where all the shots took place"
   ]
  },
  {
   "cell_type": "code",
   "execution_count": 11,
   "metadata": {
    "collapsed": false
   },
   "outputs": [
    {
     "name": "stderr",
     "output_type": "stream",
     "text": [
      "C:\\Users\\Steven\\Anaconda3\\lib\\site-packages\\statsmodels\\nonparametric\\kdetools.py:20: VisibleDeprecationWarning: using a non-integer number instead of an integer will result in an error in the future\n",
      "  y = X[:m/2+1] + np.r_[0,X[m/2+1:],0]*1j\n"
     ]
    },
    {
     "data": {
      "image/png": "[encoded data removed]",
      "text/plain": [
       "<matplotlib.figure.Figure at 0x11076591a58>"
      ]
     },
     "metadata": {},
     "output_type": "display_data"
    }
   ],
   "source": [
    "import seaborn as sns\n",
    "cmap=plt.cm.YlOrRd_r #choose colormap\n",
    "gradient_map=sns.jointplot(scored['loc_x'],scored['loc_y'],stat_func=None,\n",
    "                          kind='kde',space=0,color=cmap(0,1),cmap=cmap, n_levels=50)"
   ]
  },
  {
   "cell_type": "code",
   "execution_count": 12,
   "metadata": {
    "collapsed": false
   },
   "outputs": [
    {
     "name": "stderr",
     "output_type": "stream",
     "text": [
      "C:\\Users\\Steven\\Anaconda3\\lib\\site-packages\\statsmodels\\nonparametric\\kdetools.py:20: VisibleDeprecationWarning: using a non-integer number instead of an integer will result in an error in the future\n",
      "  y = X[:m/2+1] + np.r_[0,X[m/2+1:],0]*1j\n"
     ]
    },
    {
     "data": {
      "image/png": "[encoded data removed]",
      "text/plain": [
       "<matplotlib.figure.Figure at 0x110758c95c0>"
      ]
     },
     "metadata": {},
     "output_type": "display_data"
    }
   ],
   "source": [
    "gradient_map=sns.jointplot(missed['loc_x'],missed['loc_y'],stat_func=None,\n",
    "                          kind='kde',space=0,color=cmap(0,1),cmap=cmap, n_levels=50)"
   ]
  },
  {
   "cell_type": "code",
   "execution_count": 13,
   "metadata": {
    "collapsed": false
   },
   "outputs": [],
   "source": [
    "#breakdown by time of number of shots taken for each minute of the game\n",
    "shots_taken=np.empty((4,12))\n",
    "for j in range (1,5):\n",
    "    for i in range (0,12):\n",
    "        #print( j,i,len(df[(df['period']== j) & (df['minutes_remaining']==i)])/len(df['period']) )\n",
    "        shots_taken[(j-1),i]=len(df[(df['period']== j) & (df['minutes_remaining']==i)])/len(df['period']) "
   ]
  },
  {
   "cell_type": "code",
   "execution_count": 14,
   "metadata": {
    "collapsed": false,
    "scrolled": true
   },
   "outputs": [
    {
     "data": {
      "text/plain": [
       "array([[ 0.02984005],\n",
       "       [ 0.02019741],\n",
       "       [ 0.02404144],\n",
       "       [ 0.0227058 ],\n",
       "       [ 0.02179366],\n",
       "       [ 0.02185881],\n",
       "       [ 0.01951331],\n",
       "       [ 0.02088152],\n",
       "       [ 0.02101183],\n",
       "       [ 0.02107698],\n",
       "       [ 0.02133759],\n",
       "       [ 0.01791706],\n",
       "       [ 0.03397726],\n",
       "       [ 0.02189139],\n",
       "       [ 0.02296641],\n",
       "       [ 0.02309672],\n",
       "       [ 0.02387855],\n",
       "       [ 0.02009968],\n",
       "       [ 0.01609278],\n",
       "       [ 0.01231391],\n",
       "       [ 0.01192299],\n",
       "       [ 0.011076  ],\n",
       "       [ 0.01140177],\n",
       "       [ 0.01013128],\n",
       "       [ 0.02785288],\n",
       "       [ 0.01922012],\n",
       "       [ 0.02189139],\n",
       "       [ 0.02189139],\n",
       "       [ 0.02329218],\n",
       "       [ 0.02283611],\n",
       "       [ 0.02234746],\n",
       "       [ 0.02273838],\n",
       "       [ 0.02156563],\n",
       "       [ 0.02426947],\n",
       "       [ 0.02280353],\n",
       "       [ 0.01954588],\n",
       "       [ 0.0303287 ],\n",
       "       [ 0.02560511],\n",
       "       [ 0.02123986],\n",
       "       [ 0.02273838],\n",
       "       [ 0.022152  ],\n",
       "       [ 0.02156563],\n",
       "       [ 0.01967619],\n",
       "       [ 0.01622308],\n",
       "       [ 0.01518064],\n",
       "       [ 0.01531094],\n",
       "       [ 0.01358439],\n",
       "       [ 0.01290028]])"
      ]
     },
     "execution_count": 14,
     "metadata": {},
     "output_type": "execute_result"
    }
   ],
   "source": [
    "shots_taken=shots_taken.reshape(12*4,1)\n",
    "shots_taken"
   ]
  },
  {
   "cell_type": "code",
   "execution_count": 15,
   "metadata": {
    "collapsed": false
   },
   "outputs": [
    {
     "data": {
      "image/png": "[encoded data removed]",
      "text/plain": [
       "<matplotlib.figure.Figure at 0x1107842d780>"
      ]
     },
     "metadata": {},
     "output_type": "display_data"
    }
   ],
   "source": [
    "#np.arange(1,49)\n",
    "plt.plot(np.arange(0,48),shots_taken*100)\n",
    "plt.ylabel('percentage of total shots taken')\n",
    "plt.xlabel('minutes into the game')\n",
    "plt.plot([11, 11],[0,3.5],'black',[23, 23],[0,3.5],'black',[35, 35],[0,3.5],'black',[47, 47],[0,3.5],'black',)\n",
    "# turn off that annoying grid\n",
    "from matplotlib.ticker import MultipleLocator, FormatStrFormatter\n",
    "majorLocator = MultipleLocator(12)\n",
    "minorLocator = MultipleLocator(10) #not sure what happened\n",
    "plt.grid()\n",
    "plt.show()"
   ]
  },
  {
   "cell_type": "code",
   "execution_count": 16,
   "metadata": {
    "collapsed": false
   },
   "outputs": [
    {
     "data": {
      "image/png": "[encoded data removed]",
      "text/plain": [
       "<matplotlib.figure.Figure at 0x11077f2c710>"
      ]
     },
     "metadata": {},
     "output_type": "display_data"
    }
   ],
   "source": [
    "#accuracy of shots breakdown by minute\n",
    "shots_accuracy=np.empty((4,12))\n",
    "for j in range (1,5):\n",
    "    for i in range (0,12):\n",
    "        shots_accuracy[(j-1),i]=len(scored[(scored['period']== j) & (scored['minutes_remaining']==i)])/len(df[(df['period']== j) & (df['minutes_remaining']==i)])\n",
    "        \n",
    "shots_accuracy=shots_accuracy.reshape(12*4,1)\n",
    "plt.plot(np.arange(0,48),shots_accuracy*100)\n",
    "plt.ylabel('percentage shot accuracy')\n",
    "plt.xlabel('minutes into the game')\n",
    "plt.plot([11, 11],[0,45],'black',[23, 23],[0,45],'black',[35, 35],[0,45],'black',[47, 47],[0,45],'black',)\n",
    "# turn off that annoying grid\n",
    "#from matplotlib.ticker import MultipleLocator, FormatStrFormatter\n",
    "#majorLocator = MultipleLocator(12)\n",
    "#minorLocator = MultipleLocator(10) #not sure what happened\n",
    "#plt.grid()\n",
    "plt.show()"
   ]
  },
  {
   "cell_type": "markdown",
   "metadata": {},
   "source": [
    "Kobe is shooting less as a quarter progresses. Probably has to do with fatigue, but also the defense is tightening towards the end of the quarter. While he takes a lot of shots at the beginning of each quarter, this is also when his accuracy is the worst. Maybe his hands haven't warmed up. Slowly his accuracy improves, even as the number of shots taken drops, peaking around three quarters of the way into the quarter. In the final moments of the quarter, his accuracy drops. This is understandable, as players often have to take tough shots towards the end.\n",
    "\n",
    "I then began to start cleaning up the data for some quick predictive analysis. In retrospect, now I know to to_dummies would have been the much simpler way of doing a lot of the cleaning."
   ]
  },
  {
   "cell_type": "code",
   "execution_count": 17,
   "metadata": {
    "collapsed": false
   },
   "outputs": [
    {
     "data": {
      "text/plain": [
       "dtype('O')"
      ]
     },
     "execution_count": 17,
     "metadata": {},
     "output_type": "execute_result"
    }
   ],
   "source": [
    "team_array=df['opponent'].unique()\n",
    "team_array.dtype"
   ]
  },
  {
   "cell_type": "code",
   "execution_count": 18,
   "metadata": {
    "collapsed": false
   },
   "outputs": [
    {
     "data": {
      "text/plain": [
       "array(['POR', 'UTA', 'VAN', 'LAC', 'HOU', 'SAS', 'DEN', 'SAC', 'CHI',\n",
       "       'GSW', 'MIN', 'IND', 'SEA', 'DAL', 'PHI', 'DET', 'MIL', 'TOR',\n",
       "       'MIA', 'PHX', 'CLE', 'NJN', 'NYK', 'CHA', 'WAS', 'ORL', 'ATL',\n",
       "       'MEM', 'BOS', 'NOH', 'NOP', 'OKC', 'BKN'], dtype=object)"
      ]
     },
     "execution_count": 18,
     "metadata": {},
     "output_type": "execute_result"
    }
   ],
   "source": [
    "team_array\n"
   ]
  },
  {
   "cell_type": "code",
   "execution_count": 19,
   "metadata": {
    "collapsed": false
   },
   "outputs": [],
   "source": [
    "df['opp_id']=df['opponent'].map( {'POR':0, 'UTA':1, 'VAN':2, 'LAC':3,\n",
    "                                 'HOU':4, 'SAS':5, 'DEN':6, 'SAC':7, 'CHI':8, 'GSW': 9, 'MIN':10, 'IND':11,\n",
    "                                 'SEA': 12, 'DAL': 13, 'PHI': 14, 'DET': 15, 'MIL': 16, 'TOR': 17, \n",
    "                                 'MIA':18, 'PHX':19, 'CLE':20, 'NJN': 21, 'NYK':22, 'CHA':23, 'WAS':24, 'ORL': 25,\n",
    "                                 'ATL': 26, 'MEM': 27, 'BOS':28, 'NOH':29, 'NOP':30, 'OKC':31, 'BKN':32}).astype(int)\n",
    "df.drop(['opponent'],axis=1, inplace=True)\n",
    "#afterwards I learned that the get_dummies function is much simpler"
   ]
  },
  {
   "cell_type": "code",
   "execution_count": 20,
   "metadata": {
    "collapsed": false
   },
   "outputs": [
    {
     "data": {
      "text/plain": [
       "array(['Jump Shot', 'Dunk', 'Layup', 'Tip Shot', 'Hook Shot', 'Bank Shot'], dtype=object)"
      ]
     },
     "execution_count": 20,
     "metadata": {},
     "output_type": "execute_result"
    }
   ],
   "source": [
    "df['combined_shot_type'].unique()"
   ]
  },
  {
   "cell_type": "code",
   "execution_count": 21,
   "metadata": {
    "collapsed": false
   },
   "outputs": [],
   "source": [
    "df['shot_val']=df['combined_shot_type'].map({'Jump Shot': 0, 'Dunk':1, 'Layup': 2, 'Tip Shot': 3, 'Hook Shot': 4,\n",
    "                                           'Bank Shot':5}).astype(int)\n",
    "df.drop(['combined_shot_type'], axis=1, inplace=True)"
   ]
  },
  {
   "cell_type": "code",
   "execution_count": 22,
   "metadata": {
    "collapsed": false
   },
   "outputs": [
    {
     "data": {
      "text/plain": [
       "array(['2PT Field Goal', '3PT Field Goal'], dtype=object)"
      ]
     },
     "execution_count": 22,
     "metadata": {},
     "output_type": "execute_result"
    }
   ],
   "source": [
    "df['shot_type'].unique()"
   ]
  },
  {
   "cell_type": "code",
   "execution_count": 23,
   "metadata": {
    "collapsed": false
   },
   "outputs": [],
   "source": [
    "df['shot_points']=df['shot_type'].map({'2PT Field Goal':2, '3PT Field Goal':3}).astype(int)\n",
    "df.drop(['shot_type'], axis=1, inplace=True)"
   ]
  },
  {
   "cell_type": "code",
   "execution_count": 24,
   "metadata": {
    "collapsed": false
   },
   "outputs": [
    {
     "data": {
      "text/plain": [
       "array(['Right Side(R)', 'Left Side(L)', 'Left Side Center(LC)',\n",
       "       'Right Side Center(RC)', 'Center(C)', 'Back Court(BC)'], dtype=object)"
      ]
     },
     "execution_count": 24,
     "metadata": {},
     "output_type": "execute_result"
    }
   ],
   "source": [
    "df['shot_zone_area'].unique()"
   ]
  },
  {
   "cell_type": "code",
   "execution_count": null,
   "metadata": {
    "collapsed": true
   },
   "outputs": [],
   "source": []
  },
  {
   "cell_type": "code",
   "execution_count": 25,
   "metadata": {
    "collapsed": false
   },
   "outputs": [],
   "source": [
    "df['shot_zone_region']=df['shot_zone_area'].map({'Right Side(R)':0, 'Left Side(L)':1, 'Left Side Center(LC)':2,\n",
    "       'Right Side Center(RC)':3, 'Center(C)':4, 'Back Court(BC)':5})\n",
    "df.drop(['shot_zone_area'],axis=1, inplace=True)"
   ]
  },
  {
   "cell_type": "code",
   "execution_count": 26,
   "metadata": {
    "collapsed": false
   },
   "outputs": [
    {
     "data": {
      "text/plain": [
       "Index(['game_event_id', 'game_id', 'loc_x', 'loc_y', 'minutes_remaining',\n",
       "       'period', 'playoffs', 'seconds_remaining', 'shot_distance',\n",
       "       'shot_made_flag', 'team_id', 'team_name', 'shot_id', 'opp_id',\n",
       "       'shot_val', 'shot_points', 'shot_zone_region'],\n",
       "      dtype='object')"
      ]
     },
     "execution_count": 26,
     "metadata": {},
     "output_type": "execute_result"
    }
   ],
   "source": [
    "df.drop(['action_type','season','game_date','matchup','shot_zone_range','shot_zone_basic'],axis=1, inplace=True)\n",
    "df.columns"
   ]
  },
  {
   "cell_type": "code",
   "execution_count": 27,
   "metadata": {
    "collapsed": false
   },
   "outputs": [],
   "source": [
    "try1=df   \n",
    "try1.drop(['game_event_id','game_id','team_name','team_id'],axis=1,inplace=True)"
   ]
  },
  {
   "cell_type": "code",
   "execution_count": 28,
   "metadata": {
    "collapsed": false
   },
   "outputs": [
    {
     "data": {
      "text/html": [
       "<div>\n",
       "<table border=\"1\" class=\"dataframe\">\n",
       "  <thead>\n",
       "    <tr style=\"text-align: right;\">\n",
       "      <th></th>\n",
       "      <th>shot_made_flag</th>\n",
       "      <th>loc_x</th>\n",
       "      <th>loc_y</th>\n",
       "      <th>minutes_remaining</th>\n",
       "      <th>period</th>\n",
       "      <th>playoffs</th>\n",
       "      <th>seconds_remaining</th>\n",
       "      <th>shot_distance</th>\n",
       "      <th>shot_id</th>\n",
       "      <th>opp_id</th>\n",
       "      <th>shot_val</th>\n",
       "      <th>shot_points</th>\n",
       "      <th>shot_zone_region</th>\n",
       "    </tr>\n",
       "  </thead>\n",
       "  <tbody>\n",
       "    <tr>\n",
       "      <th>0</th>\n",
       "      <td>NaN</td>\n",
       "      <td>167</td>\n",
       "      <td>72</td>\n",
       "      <td>10</td>\n",
       "      <td>1</td>\n",
       "      <td>0</td>\n",
       "      <td>27</td>\n",
       "      <td>18</td>\n",
       "      <td>1</td>\n",
       "      <td>0</td>\n",
       "      <td>0</td>\n",
       "      <td>2</td>\n",
       "      <td>0</td>\n",
       "    </tr>\n",
       "    <tr>\n",
       "      <th>1</th>\n",
       "      <td>0.0</td>\n",
       "      <td>-157</td>\n",
       "      <td>0</td>\n",
       "      <td>10</td>\n",
       "      <td>1</td>\n",
       "      <td>0</td>\n",
       "      <td>22</td>\n",
       "      <td>15</td>\n",
       "      <td>2</td>\n",
       "      <td>0</td>\n",
       "      <td>0</td>\n",
       "      <td>2</td>\n",
       "      <td>1</td>\n",
       "    </tr>\n",
       "    <tr>\n",
       "      <th>2</th>\n",
       "      <td>1.0</td>\n",
       "      <td>-101</td>\n",
       "      <td>135</td>\n",
       "      <td>7</td>\n",
       "      <td>1</td>\n",
       "      <td>0</td>\n",
       "      <td>45</td>\n",
       "      <td>16</td>\n",
       "      <td>3</td>\n",
       "      <td>0</td>\n",
       "      <td>0</td>\n",
       "      <td>2</td>\n",
       "      <td>2</td>\n",
       "    </tr>\n",
       "    <tr>\n",
       "      <th>3</th>\n",
       "      <td>0.0</td>\n",
       "      <td>138</td>\n",
       "      <td>175</td>\n",
       "      <td>6</td>\n",
       "      <td>1</td>\n",
       "      <td>0</td>\n",
       "      <td>52</td>\n",
       "      <td>22</td>\n",
       "      <td>4</td>\n",
       "      <td>0</td>\n",
       "      <td>0</td>\n",
       "      <td>2</td>\n",
       "      <td>3</td>\n",
       "    </tr>\n",
       "    <tr>\n",
       "      <th>4</th>\n",
       "      <td>1.0</td>\n",
       "      <td>0</td>\n",
       "      <td>0</td>\n",
       "      <td>6</td>\n",
       "      <td>2</td>\n",
       "      <td>0</td>\n",
       "      <td>19</td>\n",
       "      <td>0</td>\n",
       "      <td>5</td>\n",
       "      <td>0</td>\n",
       "      <td>1</td>\n",
       "      <td>2</td>\n",
       "      <td>4</td>\n",
       "    </tr>\n",
       "  </tbody>\n",
       "</table>\n",
       "</div>"
      ],
      "text/plain": [
       "   shot_made_flag  loc_x  loc_y  minutes_remaining  period  playoffs  \\\n",
       "0             NaN    167     72                 10       1         0   \n",
       "1             0.0   -157      0                 10       1         0   \n",
       "2             1.0   -101    135                  7       1         0   \n",
       "3             0.0    138    175                  6       1         0   \n",
       "4             1.0      0      0                  6       2         0   \n",
       "\n",
       "   seconds_remaining  shot_distance  shot_id  opp_id  shot_val  shot_points  \\\n",
       "0                 27             18        1       0         0            2   \n",
       "1                 22             15        2       0         0            2   \n",
       "2                 45             16        3       0         0            2   \n",
       "3                 52             22        4       0         0            2   \n",
       "4                 19              0        5       0         1            2   \n",
       "\n",
       "   shot_zone_region  \n",
       "0                 0  \n",
       "1                 1  \n",
       "2                 2  \n",
       "3                 3  \n",
       "4                 4  "
      ]
     },
     "execution_count": 28,
     "metadata": {},
     "output_type": "execute_result"
    }
   ],
   "source": [
    "shot_flag=try1['shot_made_flag']\n",
    "try1.drop(labels=['shot_made_flag'],axis=1,inplace=True)\n",
    "try1.insert(0,'shot_made_flag',shot_flag)\n",
    "try1.head(5)"
   ]
  },
  {
   "cell_type": "code",
   "execution_count": 29,
   "metadata": {
    "collapsed": false
   },
   "outputs": [
    {
     "data": {
      "text/html": [
       "<div>\n",
       "<table border=\"1\" class=\"dataframe\">\n",
       "  <thead>\n",
       "    <tr style=\"text-align: right;\">\n",
       "      <th></th>\n",
       "      <th>shot_made_flag</th>\n",
       "      <th>loc_x</th>\n",
       "      <th>loc_y</th>\n",
       "      <th>minutes_remaining</th>\n",
       "      <th>period</th>\n",
       "      <th>playoffs</th>\n",
       "      <th>seconds_remaining</th>\n",
       "      <th>shot_distance</th>\n",
       "      <th>shot_id</th>\n",
       "      <th>opp_id</th>\n",
       "      <th>shot_val</th>\n",
       "      <th>shot_points</th>\n",
       "      <th>shot_zone_region</th>\n",
       "    </tr>\n",
       "  </thead>\n",
       "  <tbody>\n",
       "    <tr>\n",
       "      <th>1</th>\n",
       "      <td>0.0</td>\n",
       "      <td>-157</td>\n",
       "      <td>0</td>\n",
       "      <td>10</td>\n",
       "      <td>1</td>\n",
       "      <td>0</td>\n",
       "      <td>22</td>\n",
       "      <td>15</td>\n",
       "      <td>2</td>\n",
       "      <td>0</td>\n",
       "      <td>0</td>\n",
       "      <td>2</td>\n",
       "      <td>1</td>\n",
       "    </tr>\n",
       "    <tr>\n",
       "      <th>2</th>\n",
       "      <td>1.0</td>\n",
       "      <td>-101</td>\n",
       "      <td>135</td>\n",
       "      <td>7</td>\n",
       "      <td>1</td>\n",
       "      <td>0</td>\n",
       "      <td>45</td>\n",
       "      <td>16</td>\n",
       "      <td>3</td>\n",
       "      <td>0</td>\n",
       "      <td>0</td>\n",
       "      <td>2</td>\n",
       "      <td>2</td>\n",
       "    </tr>\n",
       "    <tr>\n",
       "      <th>3</th>\n",
       "      <td>0.0</td>\n",
       "      <td>138</td>\n",
       "      <td>175</td>\n",
       "      <td>6</td>\n",
       "      <td>1</td>\n",
       "      <td>0</td>\n",
       "      <td>52</td>\n",
       "      <td>22</td>\n",
       "      <td>4</td>\n",
       "      <td>0</td>\n",
       "      <td>0</td>\n",
       "      <td>2</td>\n",
       "      <td>3</td>\n",
       "    </tr>\n",
       "    <tr>\n",
       "      <th>4</th>\n",
       "      <td>1.0</td>\n",
       "      <td>0</td>\n",
       "      <td>0</td>\n",
       "      <td>6</td>\n",
       "      <td>2</td>\n",
       "      <td>0</td>\n",
       "      <td>19</td>\n",
       "      <td>0</td>\n",
       "      <td>5</td>\n",
       "      <td>0</td>\n",
       "      <td>1</td>\n",
       "      <td>2</td>\n",
       "      <td>4</td>\n",
       "    </tr>\n",
       "    <tr>\n",
       "      <th>5</th>\n",
       "      <td>0.0</td>\n",
       "      <td>-145</td>\n",
       "      <td>-11</td>\n",
       "      <td>9</td>\n",
       "      <td>3</td>\n",
       "      <td>0</td>\n",
       "      <td>32</td>\n",
       "      <td>14</td>\n",
       "      <td>6</td>\n",
       "      <td>0</td>\n",
       "      <td>0</td>\n",
       "      <td>2</td>\n",
       "      <td>1</td>\n",
       "    </tr>\n",
       "  </tbody>\n",
       "</table>\n",
       "</div>"
      ],
      "text/plain": [
       "   shot_made_flag  loc_x  loc_y  minutes_remaining  period  playoffs  \\\n",
       "1             0.0   -157      0                 10       1         0   \n",
       "2             1.0   -101    135                  7       1         0   \n",
       "3             0.0    138    175                  6       1         0   \n",
       "4             1.0      0      0                  6       2         0   \n",
       "5             0.0   -145    -11                  9       3         0   \n",
       "\n",
       "   seconds_remaining  shot_distance  shot_id  opp_id  shot_val  shot_points  \\\n",
       "1                 22             15        2       0         0            2   \n",
       "2                 45             16        3       0         0            2   \n",
       "3                 52             22        4       0         0            2   \n",
       "4                 19              0        5       0         1            2   \n",
       "5                 32             14        6       0         0            2   \n",
       "\n",
       "   shot_zone_region  \n",
       "1                 1  \n",
       "2                 2  \n",
       "3                 3  \n",
       "4                 4  \n",
       "5                 1  "
      ]
     },
     "execution_count": 29,
     "metadata": {},
     "output_type": "execute_result"
    }
   ],
   "source": [
    "#NaN values dropped\n",
    "train_data=try1[pd.notnull(try1['shot_made_flag'])]\n",
    "train_data.head(5)"
   ]
  },
  {
   "cell_type": "code",
   "execution_count": 30,
   "metadata": {
    "collapsed": false
   },
   "outputs": [
    {
     "data": {
      "text/html": [
       "<div>\n",
       "<table border=\"1\" class=\"dataframe\">\n",
       "  <thead>\n",
       "    <tr style=\"text-align: right;\">\n",
       "      <th></th>\n",
       "      <th>shot_made_flag</th>\n",
       "      <th>loc_x</th>\n",
       "      <th>loc_y</th>\n",
       "      <th>minutes_remaining</th>\n",
       "      <th>period</th>\n",
       "      <th>playoffs</th>\n",
       "      <th>seconds_remaining</th>\n",
       "      <th>shot_distance</th>\n",
       "      <th>shot_id</th>\n",
       "      <th>opp_id</th>\n",
       "      <th>shot_val</th>\n",
       "      <th>shot_points</th>\n",
       "      <th>shot_zone_region</th>\n",
       "    </tr>\n",
       "  </thead>\n",
       "  <tbody>\n",
       "    <tr>\n",
       "      <th>0</th>\n",
       "      <td>NaN</td>\n",
       "      <td>167</td>\n",
       "      <td>72</td>\n",
       "      <td>10</td>\n",
       "      <td>1</td>\n",
       "      <td>0</td>\n",
       "      <td>27</td>\n",
       "      <td>18</td>\n",
       "      <td>1</td>\n",
       "      <td>0</td>\n",
       "      <td>0</td>\n",
       "      <td>2</td>\n",
       "      <td>0</td>\n",
       "    </tr>\n",
       "    <tr>\n",
       "      <th>7</th>\n",
       "      <td>NaN</td>\n",
       "      <td>1</td>\n",
       "      <td>28</td>\n",
       "      <td>8</td>\n",
       "      <td>3</td>\n",
       "      <td>0</td>\n",
       "      <td>5</td>\n",
       "      <td>2</td>\n",
       "      <td>8</td>\n",
       "      <td>0</td>\n",
       "      <td>0</td>\n",
       "      <td>2</td>\n",
       "      <td>4</td>\n",
       "    </tr>\n",
       "    <tr>\n",
       "      <th>16</th>\n",
       "      <td>NaN</td>\n",
       "      <td>0</td>\n",
       "      <td>0</td>\n",
       "      <td>0</td>\n",
       "      <td>1</td>\n",
       "      <td>0</td>\n",
       "      <td>1</td>\n",
       "      <td>0</td>\n",
       "      <td>17</td>\n",
       "      <td>1</td>\n",
       "      <td>2</td>\n",
       "      <td>2</td>\n",
       "      <td>4</td>\n",
       "    </tr>\n",
       "    <tr>\n",
       "      <th>19</th>\n",
       "      <td>NaN</td>\n",
       "      <td>0</td>\n",
       "      <td>0</td>\n",
       "      <td>10</td>\n",
       "      <td>3</td>\n",
       "      <td>0</td>\n",
       "      <td>46</td>\n",
       "      <td>0</td>\n",
       "      <td>20</td>\n",
       "      <td>1</td>\n",
       "      <td>2</td>\n",
       "      <td>2</td>\n",
       "      <td>4</td>\n",
       "    </tr>\n",
       "    <tr>\n",
       "      <th>32</th>\n",
       "      <td>NaN</td>\n",
       "      <td>163</td>\n",
       "      <td>76</td>\n",
       "      <td>11</td>\n",
       "      <td>1</td>\n",
       "      <td>0</td>\n",
       "      <td>26</td>\n",
       "      <td>17</td>\n",
       "      <td>33</td>\n",
       "      <td>2</td>\n",
       "      <td>0</td>\n",
       "      <td>2</td>\n",
       "      <td>0</td>\n",
       "    </tr>\n",
       "  </tbody>\n",
       "</table>\n",
       "</div>"
      ],
      "text/plain": [
       "    shot_made_flag  loc_x  loc_y  minutes_remaining  period  playoffs  \\\n",
       "0              NaN    167     72                 10       1         0   \n",
       "7              NaN      1     28                  8       3         0   \n",
       "16             NaN      0      0                  0       1         0   \n",
       "19             NaN      0      0                 10       3         0   \n",
       "32             NaN    163     76                 11       1         0   \n",
       "\n",
       "    seconds_remaining  shot_distance  shot_id  opp_id  shot_val  shot_points  \\\n",
       "0                  27             18        1       0         0            2   \n",
       "7                   5              2        8       0         0            2   \n",
       "16                  1              0       17       1         2            2   \n",
       "19                 46              0       20       1         2            2   \n",
       "32                 26             17       33       2         0            2   \n",
       "\n",
       "    shot_zone_region  \n",
       "0                  0  \n",
       "7                  4  \n",
       "16                 4  \n",
       "19                 4  \n",
       "32                 0  "
      ]
     },
     "execution_count": 30,
     "metadata": {},
     "output_type": "execute_result"
    }
   ],
   "source": [
    "test_data=try1[pd.isnull(try1['shot_made_flag'])]\n",
    "test_data.head(5)"
   ]
  },
  {
   "cell_type": "code",
   "execution_count": 31,
   "metadata": {
    "collapsed": true
   },
   "outputs": [],
   "source": [
    "shot_id=test_data['shot_id'].values"
   ]
  },
  {
   "cell_type": "code",
   "execution_count": 32,
   "metadata": {
    "collapsed": false
   },
   "outputs": [
    {
     "name": "stderr",
     "output_type": "stream",
     "text": [
      "C:\\Users\\Steven\\Anaconda3\\lib\\site-packages\\ipykernel\\__main__.py:1: SettingWithCopyWarning: \n",
      "A value is trying to be set on a copy of a slice from a DataFrame\n",
      "\n",
      "See the caveats in the documentation: http://pandas.pydata.org/pandas-docs/stable/indexing.html#indexing-view-versus-copy\n",
      "  if __name__ == '__main__':\n",
      "C:\\Users\\Steven\\Anaconda3\\lib\\site-packages\\ipykernel\\__main__.py:2: SettingWithCopyWarning: \n",
      "A value is trying to be set on a copy of a slice from a DataFrame\n",
      "\n",
      "See the caveats in the documentation: http://pandas.pydata.org/pandas-docs/stable/indexing.html#indexing-view-versus-copy\n",
      "  from ipykernel import kernelapp as app\n"
     ]
    },
    {
     "data": {
      "text/html": [
       "<div>\n",
       "<table border=\"1\" class=\"dataframe\">\n",
       "  <thead>\n",
       "    <tr style=\"text-align: right;\">\n",
       "      <th></th>\n",
       "      <th>loc_x</th>\n",
       "      <th>loc_y</th>\n",
       "      <th>minutes_remaining</th>\n",
       "      <th>period</th>\n",
       "      <th>playoffs</th>\n",
       "      <th>seconds_remaining</th>\n",
       "      <th>shot_distance</th>\n",
       "      <th>opp_id</th>\n",
       "      <th>shot_val</th>\n",
       "      <th>shot_points</th>\n",
       "      <th>shot_zone_region</th>\n",
       "    </tr>\n",
       "  </thead>\n",
       "  <tbody>\n",
       "    <tr>\n",
       "      <th>0</th>\n",
       "      <td>167</td>\n",
       "      <td>72</td>\n",
       "      <td>10</td>\n",
       "      <td>1</td>\n",
       "      <td>0</td>\n",
       "      <td>27</td>\n",
       "      <td>18</td>\n",
       "      <td>0</td>\n",
       "      <td>0</td>\n",
       "      <td>2</td>\n",
       "      <td>0</td>\n",
       "    </tr>\n",
       "    <tr>\n",
       "      <th>7</th>\n",
       "      <td>1</td>\n",
       "      <td>28</td>\n",
       "      <td>8</td>\n",
       "      <td>3</td>\n",
       "      <td>0</td>\n",
       "      <td>5</td>\n",
       "      <td>2</td>\n",
       "      <td>0</td>\n",
       "      <td>0</td>\n",
       "      <td>2</td>\n",
       "      <td>4</td>\n",
       "    </tr>\n",
       "    <tr>\n",
       "      <th>16</th>\n",
       "      <td>0</td>\n",
       "      <td>0</td>\n",
       "      <td>0</td>\n",
       "      <td>1</td>\n",
       "      <td>0</td>\n",
       "      <td>1</td>\n",
       "      <td>0</td>\n",
       "      <td>1</td>\n",
       "      <td>2</td>\n",
       "      <td>2</td>\n",
       "      <td>4</td>\n",
       "    </tr>\n",
       "    <tr>\n",
       "      <th>19</th>\n",
       "      <td>0</td>\n",
       "      <td>0</td>\n",
       "      <td>10</td>\n",
       "      <td>3</td>\n",
       "      <td>0</td>\n",
       "      <td>46</td>\n",
       "      <td>0</td>\n",
       "      <td>1</td>\n",
       "      <td>2</td>\n",
       "      <td>2</td>\n",
       "      <td>4</td>\n",
       "    </tr>\n",
       "    <tr>\n",
       "      <th>32</th>\n",
       "      <td>163</td>\n",
       "      <td>76</td>\n",
       "      <td>11</td>\n",
       "      <td>1</td>\n",
       "      <td>0</td>\n",
       "      <td>26</td>\n",
       "      <td>17</td>\n",
       "      <td>2</td>\n",
       "      <td>0</td>\n",
       "      <td>2</td>\n",
       "      <td>0</td>\n",
       "    </tr>\n",
       "  </tbody>\n",
       "</table>\n",
       "</div>"
      ],
      "text/plain": [
       "    loc_x  loc_y  minutes_remaining  period  playoffs  seconds_remaining  \\\n",
       "0     167     72                 10       1         0                 27   \n",
       "7       1     28                  8       3         0                  5   \n",
       "16      0      0                  0       1         0                  1   \n",
       "19      0      0                 10       3         0                 46   \n",
       "32    163     76                 11       1         0                 26   \n",
       "\n",
       "    shot_distance  opp_id  shot_val  shot_points  shot_zone_region  \n",
       "0              18       0         0            2                 0  \n",
       "7               2       0         0            2                 4  \n",
       "16              0       1         2            2                 4  \n",
       "19              0       1         2            2                 4  \n",
       "32             17       2         0            2                 0  "
      ]
     },
     "execution_count": 32,
     "metadata": {},
     "output_type": "execute_result"
    }
   ],
   "source": [
    "train_data.drop(labels=['shot_id'],axis=1,inplace=True)\n",
    "test_data.drop(labels=['shot_made_flag','shot_id'],axis=1,inplace=True)\n",
    "test_data.head(5)"
   ]
  },
  {
   "cell_type": "code",
   "execution_count": 33,
   "metadata": {
    "collapsed": false
   },
   "outputs": [
    {
     "name": "stderr",
     "output_type": "stream",
     "text": [
      "C:\\Users\\Steven\\Anaconda3\\lib\\site-packages\\ipykernel\\__main__.py:1: SettingWithCopyWarning: \n",
      "A value is trying to be set on a copy of a slice from a DataFrame.\n",
      "Try using .loc[row_indexer,col_indexer] = value instead\n",
      "\n",
      "See the caveats in the documentation: http://pandas.pydata.org/pandas-docs/stable/indexing.html#indexing-view-versus-copy\n",
      "  if __name__ == '__main__':\n",
      "C:\\Users\\Steven\\Anaconda3\\lib\\site-packages\\ipykernel\\__main__.py:2: SettingWithCopyWarning: \n",
      "A value is trying to be set on a copy of a slice from a DataFrame.\n",
      "Try using .loc[row_indexer,col_indexer] = value instead\n",
      "\n",
      "See the caveats in the documentation: http://pandas.pydata.org/pandas-docs/stable/indexing.html#indexing-view-versus-copy\n",
      "  from ipykernel import kernelapp as app\n"
     ]
    },
    {
     "data": {
      "text/html": [
       "<div>\n",
       "<table border=\"1\" class=\"dataframe\">\n",
       "  <thead>\n",
       "    <tr style=\"text-align: right;\">\n",
       "      <th></th>\n",
       "      <th>loc_x</th>\n",
       "      <th>loc_y</th>\n",
       "      <th>minutes_remaining</th>\n",
       "      <th>period</th>\n",
       "      <th>playoffs</th>\n",
       "      <th>seconds_remaining</th>\n",
       "      <th>shot_distance</th>\n",
       "      <th>opp_id</th>\n",
       "      <th>shot_val</th>\n",
       "      <th>shot_points</th>\n",
       "      <th>shot_zone_region</th>\n",
       "      <th>time remaining</th>\n",
       "      <th>total_time_remaining</th>\n",
       "    </tr>\n",
       "  </thead>\n",
       "  <tbody>\n",
       "    <tr>\n",
       "      <th>0</th>\n",
       "      <td>167</td>\n",
       "      <td>72</td>\n",
       "      <td>10</td>\n",
       "      <td>1</td>\n",
       "      <td>0</td>\n",
       "      <td>27</td>\n",
       "      <td>18</td>\n",
       "      <td>0</td>\n",
       "      <td>0</td>\n",
       "      <td>2</td>\n",
       "      <td>0</td>\n",
       "      <td>627</td>\n",
       "      <td>2787</td>\n",
       "    </tr>\n",
       "    <tr>\n",
       "      <th>7</th>\n",
       "      <td>1</td>\n",
       "      <td>28</td>\n",
       "      <td>8</td>\n",
       "      <td>3</td>\n",
       "      <td>0</td>\n",
       "      <td>5</td>\n",
       "      <td>2</td>\n",
       "      <td>0</td>\n",
       "      <td>0</td>\n",
       "      <td>2</td>\n",
       "      <td>4</td>\n",
       "      <td>485</td>\n",
       "      <td>1205</td>\n",
       "    </tr>\n",
       "    <tr>\n",
       "      <th>16</th>\n",
       "      <td>0</td>\n",
       "      <td>0</td>\n",
       "      <td>0</td>\n",
       "      <td>1</td>\n",
       "      <td>0</td>\n",
       "      <td>1</td>\n",
       "      <td>0</td>\n",
       "      <td>1</td>\n",
       "      <td>2</td>\n",
       "      <td>2</td>\n",
       "      <td>4</td>\n",
       "      <td>1</td>\n",
       "      <td>2161</td>\n",
       "    </tr>\n",
       "    <tr>\n",
       "      <th>19</th>\n",
       "      <td>0</td>\n",
       "      <td>0</td>\n",
       "      <td>10</td>\n",
       "      <td>3</td>\n",
       "      <td>0</td>\n",
       "      <td>46</td>\n",
       "      <td>0</td>\n",
       "      <td>1</td>\n",
       "      <td>2</td>\n",
       "      <td>2</td>\n",
       "      <td>4</td>\n",
       "      <td>646</td>\n",
       "      <td>1366</td>\n",
       "    </tr>\n",
       "    <tr>\n",
       "      <th>32</th>\n",
       "      <td>163</td>\n",
       "      <td>76</td>\n",
       "      <td>11</td>\n",
       "      <td>1</td>\n",
       "      <td>0</td>\n",
       "      <td>26</td>\n",
       "      <td>17</td>\n",
       "      <td>2</td>\n",
       "      <td>0</td>\n",
       "      <td>2</td>\n",
       "      <td>0</td>\n",
       "      <td>686</td>\n",
       "      <td>2846</td>\n",
       "    </tr>\n",
       "  </tbody>\n",
       "</table>\n",
       "</div>"
      ],
      "text/plain": [
       "    loc_x  loc_y  minutes_remaining  period  playoffs  seconds_remaining  \\\n",
       "0     167     72                 10       1         0                 27   \n",
       "7       1     28                  8       3         0                  5   \n",
       "16      0      0                  0       1         0                  1   \n",
       "19      0      0                 10       3         0                 46   \n",
       "32    163     76                 11       1         0                 26   \n",
       "\n",
       "    shot_distance  opp_id  shot_val  shot_points  shot_zone_region  \\\n",
       "0              18       0         0            2                 0   \n",
       "7               2       0         0            2                 4   \n",
       "16              0       1         2            2                 4   \n",
       "19              0       1         2            2                 4   \n",
       "32             17       2         0            2                 0   \n",
       "\n",
       "    time remaining  total_time_remaining  \n",
       "0              627                  2787  \n",
       "7              485                  1205  \n",
       "16               1                  2161  \n",
       "19             646                  1366  \n",
       "32             686                  2846  "
      ]
     },
     "execution_count": 33,
     "metadata": {},
     "output_type": "execute_result"
    }
   ],
   "source": [
    "test_data['time remaining']=test_data.minutes_remaining*60+test_data.seconds_remaining\n",
    "test_data['total_time_remaining']=(test_data.minutes_remaining+(4-test_data.period)*12)*60+test_data.seconds_remaining\n",
    "test_data.head(5)"
   ]
  },
  {
   "cell_type": "code",
   "execution_count": 34,
   "metadata": {
    "collapsed": false,
    "scrolled": false
   },
   "outputs": [
    {
     "name": "stderr",
     "output_type": "stream",
     "text": [
      "C:\\Users\\Steven\\Anaconda3\\lib\\site-packages\\ipykernel\\__main__.py:1: SettingWithCopyWarning: \n",
      "A value is trying to be set on a copy of a slice from a DataFrame.\n",
      "Try using .loc[row_indexer,col_indexer] = value instead\n",
      "\n",
      "See the caveats in the documentation: http://pandas.pydata.org/pandas-docs/stable/indexing.html#indexing-view-versus-copy\n",
      "  if __name__ == '__main__':\n",
      "C:\\Users\\Steven\\Anaconda3\\lib\\site-packages\\ipykernel\\__main__.py:2: SettingWithCopyWarning: \n",
      "A value is trying to be set on a copy of a slice from a DataFrame.\n",
      "Try using .loc[row_indexer,col_indexer] = value instead\n",
      "\n",
      "See the caveats in the documentation: http://pandas.pydata.org/pandas-docs/stable/indexing.html#indexing-view-versus-copy\n",
      "  from ipykernel import kernelapp as app\n"
     ]
    },
    {
     "data": {
      "text/html": [
       "<div>\n",
       "<table border=\"1\" class=\"dataframe\">\n",
       "  <thead>\n",
       "    <tr style=\"text-align: right;\">\n",
       "      <th></th>\n",
       "      <th>shot_made_flag</th>\n",
       "      <th>loc_x</th>\n",
       "      <th>loc_y</th>\n",
       "      <th>minutes_remaining</th>\n",
       "      <th>period</th>\n",
       "      <th>playoffs</th>\n",
       "      <th>seconds_remaining</th>\n",
       "      <th>shot_distance</th>\n",
       "      <th>opp_id</th>\n",
       "      <th>shot_val</th>\n",
       "      <th>shot_points</th>\n",
       "      <th>shot_zone_region</th>\n",
       "      <th>time remaining</th>\n",
       "      <th>total_time_remaining</th>\n",
       "    </tr>\n",
       "  </thead>\n",
       "  <tbody>\n",
       "    <tr>\n",
       "      <th>1</th>\n",
       "      <td>0.0</td>\n",
       "      <td>-157</td>\n",
       "      <td>0</td>\n",
       "      <td>10</td>\n",
       "      <td>1</td>\n",
       "      <td>0</td>\n",
       "      <td>22</td>\n",
       "      <td>15</td>\n",
       "      <td>0</td>\n",
       "      <td>0</td>\n",
       "      <td>2</td>\n",
       "      <td>1</td>\n",
       "      <td>622</td>\n",
       "      <td>2782</td>\n",
       "    </tr>\n",
       "    <tr>\n",
       "      <th>2</th>\n",
       "      <td>1.0</td>\n",
       "      <td>-101</td>\n",
       "      <td>135</td>\n",
       "      <td>7</td>\n",
       "      <td>1</td>\n",
       "      <td>0</td>\n",
       "      <td>45</td>\n",
       "      <td>16</td>\n",
       "      <td>0</td>\n",
       "      <td>0</td>\n",
       "      <td>2</td>\n",
       "      <td>2</td>\n",
       "      <td>465</td>\n",
       "      <td>2625</td>\n",
       "    </tr>\n",
       "    <tr>\n",
       "      <th>3</th>\n",
       "      <td>0.0</td>\n",
       "      <td>138</td>\n",
       "      <td>175</td>\n",
       "      <td>6</td>\n",
       "      <td>1</td>\n",
       "      <td>0</td>\n",
       "      <td>52</td>\n",
       "      <td>22</td>\n",
       "      <td>0</td>\n",
       "      <td>0</td>\n",
       "      <td>2</td>\n",
       "      <td>3</td>\n",
       "      <td>412</td>\n",
       "      <td>2572</td>\n",
       "    </tr>\n",
       "    <tr>\n",
       "      <th>4</th>\n",
       "      <td>1.0</td>\n",
       "      <td>0</td>\n",
       "      <td>0</td>\n",
       "      <td>6</td>\n",
       "      <td>2</td>\n",
       "      <td>0</td>\n",
       "      <td>19</td>\n",
       "      <td>0</td>\n",
       "      <td>0</td>\n",
       "      <td>1</td>\n",
       "      <td>2</td>\n",
       "      <td>4</td>\n",
       "      <td>379</td>\n",
       "      <td>1819</td>\n",
       "    </tr>\n",
       "    <tr>\n",
       "      <th>5</th>\n",
       "      <td>0.0</td>\n",
       "      <td>-145</td>\n",
       "      <td>-11</td>\n",
       "      <td>9</td>\n",
       "      <td>3</td>\n",
       "      <td>0</td>\n",
       "      <td>32</td>\n",
       "      <td>14</td>\n",
       "      <td>0</td>\n",
       "      <td>0</td>\n",
       "      <td>2</td>\n",
       "      <td>1</td>\n",
       "      <td>572</td>\n",
       "      <td>1292</td>\n",
       "    </tr>\n",
       "  </tbody>\n",
       "</table>\n",
       "</div>"
      ],
      "text/plain": [
       "   shot_made_flag  loc_x  loc_y  minutes_remaining  period  playoffs  \\\n",
       "1             0.0   -157      0                 10       1         0   \n",
       "2             1.0   -101    135                  7       1         0   \n",
       "3             0.0    138    175                  6       1         0   \n",
       "4             1.0      0      0                  6       2         0   \n",
       "5             0.0   -145    -11                  9       3         0   \n",
       "\n",
       "   seconds_remaining  shot_distance  opp_id  shot_val  shot_points  \\\n",
       "1                 22             15       0         0            2   \n",
       "2                 45             16       0         0            2   \n",
       "3                 52             22       0         0            2   \n",
       "4                 19              0       0         1            2   \n",
       "5                 32             14       0         0            2   \n",
       "\n",
       "   shot_zone_region  time remaining  total_time_remaining  \n",
       "1                 1             622                  2782  \n",
       "2                 2             465                  2625  \n",
       "3                 3             412                  2572  \n",
       "4                 4             379                  1819  \n",
       "5                 1             572                  1292  "
      ]
     },
     "execution_count": 34,
     "metadata": {},
     "output_type": "execute_result"
    }
   ],
   "source": [
    "train_data['time remaining']=train_data.minutes_remaining*60+train_data.seconds_remaining\n",
    "train_data['total_time_remaining']=(train_data.minutes_remaining+(4-train_data.period)*12)*60+train_data.seconds_remaining\n",
    "train_data.head(5)"
   ]
  },
  {
   "cell_type": "code",
   "execution_count": 35,
   "metadata": {
    "collapsed": true
   },
   "outputs": [],
   "source": [
    "training=train_data.values\n",
    "testing=test_data.values"
   ]
  },
  {
   "cell_type": "code",
   "execution_count": 36,
   "metadata": {
    "collapsed": false
   },
   "outputs": [
    {
     "name": "stderr",
     "output_type": "stream",
     "text": [
      "C:\\Users\\Steven\\Anaconda3\\lib\\site-packages\\sklearn\\cross_validation.py:44: DeprecationWarning: This module was deprecated in version 0.18 in favor of the model_selection module into which all the refactored classes and functions are moved. Also note that the interface of the new CV iterators are different from that of this module. This module will be removed in 0.20.\n",
      "  \"This module will be removed in 0.20.\", DeprecationWarning)\n"
     ]
    }
   ],
   "source": [
    "# cross validation step \n",
    "# try the stratified k-folds method\n",
    "from sklearn.cross_validation import StratifiedKFold\n",
    "eval_size=0.1 #10 percent of data as validation\n",
    "kf=StratifiedKFold(training[0::,0],round(1./eval_size))\n",
    "train_indices, cv_indices= next(iter(kf))\n",
    "x_train, y_train = training[train_indices,1::], training[train_indices, 0]\n",
    "x_cv, y_cv =training[cv_indices,1::], training[cv_indices, 0]"
   ]
  },
  {
   "cell_type": "code",
   "execution_count": 37,
   "metadata": {
    "collapsed": false
   },
   "outputs": [
    {
     "name": "stdout",
     "output_type": "stream",
     "text": [
      "100 5 0.612639925253\n",
      "100 8 0.612990089519\n",
      "100 15 0.606374523651\n",
      "100 25 0.590263643474\n",
      "100 30 0.587578545993\n",
      "300 5 0.613651734694\n",
      "300 8 0.612873373145\n",
      "300 15 0.604273220047\n",
      "300 25 0.591859155932\n",
      "300 30 0.588628993362\n",
      "500 5 0.614040945755\n",
      "500 8 0.613184679906\n",
      "500 15 0.606102225826\n",
      "500 25 0.591703468479\n",
      "500 30 0.588706927948\n",
      "800 5 0.613340412789\n",
      "800 8 0.61334032193\n",
      "800 15 0.606063065457\n",
      "800 25 0.590847255632\n",
      "800 30 0.588239782301\n",
      "1200 5 0.613535003176\n",
      "1200 8 0.613340344645\n",
      "1200 15 0.606802614931\n",
      "1200 25 0.592948642524\n",
      "1200 30 0.590536085159\n"
     ]
    }
   ],
   "source": [
    "#using built-in c.v. \n",
    "from sklearn.cross_validation import cross_val_score\n",
    "#forest=RandomForestClassifier(n_estimators=1200,max_depth=5)\n",
    "#scores=cross_val_score(forest,training[0::,1::],training[0::,0],cv=5)\n",
    "#scores\n",
    "\n",
    "#sweep some major r.f. parameters for the best performance\n",
    "from sklearn.ensemble import RandomForestClassifier\n",
    "for estimator_num in [100,300,500,800,1200]:\n",
    "    for depth_num in [5,8,15,25,30]:\n",
    "        forest=RandomForestClassifier(n_estimators=estimator_num, max_depth=depth_num)\n",
    "        scores=np.mean(cross_val_score(forest,training[0::,1::],training[0::,0],cv=5))\n",
    "        print(estimator_num, depth_num, scores)\n"
   ]
  },
  {
   "cell_type": "code",
   "execution_count": 38,
   "metadata": {
    "collapsed": false
   },
   "outputs": [],
   "source": [
    "\n",
    "forest=RandomForestClassifier(n_estimators=300,max_depth=5)\n",
    "\n",
    "forest=forest.fit(x_train,y_train)\n",
    "    "
   ]
  },
  {
   "cell_type": "code",
   "execution_count": 39,
   "metadata": {
    "collapsed": false
   },
   "outputs": [],
   "source": [
    "#final results\n",
    "output=forest.predict(testing)"
   ]
  },
  {
   "cell_type": "markdown",
   "metadata": {},
   "source": [
    "I would expect shot percentage between 35% to 40%, so this is a sanity check:"
   ]
  },
  {
   "cell_type": "code",
   "execution_count": 40,
   "metadata": {
    "collapsed": false
   },
   "outputs": [
    {
     "data": {
      "text/plain": [
       "0.2442"
      ]
     },
     "execution_count": 40,
     "metadata": {},
     "output_type": "execute_result"
    }
   ],
   "source": [
    "len(output[output==1])/len(output)"
   ]
  },
  {
   "cell_type": "markdown",
   "metadata": {},
   "source": [
    "Ok so this is not great. In the future, I'll have to spend more time building a realistic model"
   ]
  },
  {
   "cell_type": "code",
   "execution_count": 105,
   "metadata": {
    "collapsed": true
   },
   "outputs": [],
   "source": [
    "submission1=pd.DataFrame({\"shot_id\": shot_id, \"shot_made_flag\": output})\n",
    "submission1[\"shot_made_flag\"]=submission1.shot_made_flag.astype(np.int64)\n",
    "submission1.to_csv(\"kobe_rf.csv\",index=False)"
   ]
  },
  {
   "cell_type": "code",
   "execution_count": 32,
   "metadata": {
    "collapsed": false
   },
   "outputs": [
    {
     "data": {
      "text/plain": [
       "0.17942583732057416"
      ]
     },
     "execution_count": 32,
     "metadata": {},
     "output_type": "execute_result"
    }
   ],
   "source": []
  }
 ],
 "metadata": {
  "anaconda-cloud": {},
  "kernelspec": {
   "display_name": "Python 3",
   "language": "python",
   "name": "python3"
  },
  "language_info": {
   "codemirror_mode": {
    "name": "ipython",
    "version": 3
   },
   "file_extension": ".py",
   "mimetype": "text/x-python",
   "name": "python",
   "nbconvert_exporter": "python",
   "pygments_lexer": "ipython3",
   "version": "3.6.0"
  }
 },
 "nbformat": 4,
 "nbformat_minor": 0
}
